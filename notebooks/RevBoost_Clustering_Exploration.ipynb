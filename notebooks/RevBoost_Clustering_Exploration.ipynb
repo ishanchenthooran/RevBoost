{
 "cells": [
  {
   "cell_type": "markdown",
   "id": "b925863c",
   "metadata": {},
   "source": [
    "# Import and Setup"
   ]
  },
  {
   "cell_type": "code",
   "execution_count": 1,
   "id": "da3e4788",
   "metadata": {},
   "outputs": [],
   "source": [
    "# Import required libraries and K-Means clustering functions from 'src' module\n",
    "import sys\n",
    "import os\n",
    "sys.path.append(os.path.abspath('../src'))\n",
    "\n",
    "from clustering import perform_kmeans_clustering"
   ]
  },
  {
   "cell_type": "markdown",
   "id": "d57fcafa",
   "metadata": {},
   "source": [
    "# Load Cleaned Dataset"
   ]
  },
  {
   "cell_type": "code",
   "execution_count": 7,
   "id": "77e4df3d",
   "metadata": {},
   "outputs": [],
   "source": [
    "import pandas as pd\n",
    "from clustering import perform_kmeans_clustering  # ✅ No 'src.'\n",
    "\n",
    "# Load cleaned dataset\n",
    "df = pd.read_csv('../data/cleaned_telco.csv')"
   ]
  },
  {
   "cell_type": "markdown",
   "id": "f1c13b5b",
   "metadata": {},
   "source": [
    "# K-Means Clustering and Data Preview"
   ]
  },
  {
   "cell_type": "code",
   "execution_count": 11,
   "id": "a7295254",
   "metadata": {},
   "outputs": [
    {
     "data": {
      "text/html": [
       "<div>\n",
       "<style scoped>\n",
       "    .dataframe tbody tr th:only-of-type {\n",
       "        vertical-align: middle;\n",
       "    }\n",
       "\n",
       "    .dataframe tbody tr th {\n",
       "        vertical-align: top;\n",
       "    }\n",
       "\n",
       "    .dataframe thead th {\n",
       "        text-align: right;\n",
       "    }\n",
       "</style>\n",
       "<table border=\"1\" class=\"dataframe\">\n",
       "  <thead>\n",
       "    <tr style=\"text-align: right;\">\n",
       "      <th></th>\n",
       "      <th>Segment</th>\n",
       "      <th>SeniorCitizen</th>\n",
       "      <th>tenure</th>\n",
       "      <th>MonthlyCharges</th>\n",
       "      <th>TotalCharges</th>\n",
       "      <th>TotalServicesUsed</th>\n",
       "    </tr>\n",
       "  </thead>\n",
       "  <tbody>\n",
       "    <tr>\n",
       "      <th>0</th>\n",
       "      <td>0</td>\n",
       "      <td>0</td>\n",
       "      <td>1</td>\n",
       "      <td>29.85</td>\n",
       "      <td>29.85</td>\n",
       "      <td>1</td>\n",
       "    </tr>\n",
       "    <tr>\n",
       "      <th>1</th>\n",
       "      <td>2</td>\n",
       "      <td>0</td>\n",
       "      <td>34</td>\n",
       "      <td>56.95</td>\n",
       "      <td>1889.50</td>\n",
       "      <td>3</td>\n",
       "    </tr>\n",
       "    <tr>\n",
       "      <th>2</th>\n",
       "      <td>2</td>\n",
       "      <td>0</td>\n",
       "      <td>2</td>\n",
       "      <td>53.85</td>\n",
       "      <td>108.15</td>\n",
       "      <td>3</td>\n",
       "    </tr>\n",
       "    <tr>\n",
       "      <th>3</th>\n",
       "      <td>0</td>\n",
       "      <td>0</td>\n",
       "      <td>45</td>\n",
       "      <td>42.30</td>\n",
       "      <td>1840.75</td>\n",
       "      <td>3</td>\n",
       "    </tr>\n",
       "    <tr>\n",
       "      <th>4</th>\n",
       "      <td>2</td>\n",
       "      <td>0</td>\n",
       "      <td>2</td>\n",
       "      <td>70.70</td>\n",
       "      <td>151.65</td>\n",
       "      <td>1</td>\n",
       "    </tr>\n",
       "  </tbody>\n",
       "</table>\n",
       "</div>"
      ],
      "text/plain": [
       "   Segment  SeniorCitizen  tenure  MonthlyCharges  TotalCharges  \\\n",
       "0        0              0       1           29.85         29.85   \n",
       "1        2              0      34           56.95       1889.50   \n",
       "2        2              0       2           53.85        108.15   \n",
       "3        0              0      45           42.30       1840.75   \n",
       "4        2              0       2           70.70        151.65   \n",
       "\n",
       "   TotalServicesUsed  \n",
       "0                  1  \n",
       "1                  3  \n",
       "2                  3  \n",
       "3                  3  \n",
       "4                  1  "
      ]
     },
     "execution_count": 11,
     "metadata": {},
     "output_type": "execute_result"
    }
   ],
   "source": [
    "# Define clustering features\n",
    "features = ['SeniorCitizen', 'tenure', 'MonthlyCharges', 'TotalCharges', 'TotalServicesUsed']\n",
    "\n",
    "# Apply K-Means\n",
    "df_clustered, kmeans_model = perform_kmeans_clustering(df, features, k=3)\n",
    "\n",
    "# Preview results\n",
    "df_clustered[['Segment'] + features].head()"
   ]
  },
  {
   "cell_type": "code",
   "execution_count": 10,
   "id": "df18b10c",
   "metadata": {},
   "outputs": [
    {
     "data": {
      "text/html": [
       "<div>\n",
       "<style scoped>\n",
       "    .dataframe tbody tr th:only-of-type {\n",
       "        vertical-align: middle;\n",
       "    }\n",
       "\n",
       "    .dataframe tbody tr th {\n",
       "        vertical-align: top;\n",
       "    }\n",
       "\n",
       "    .dataframe thead th {\n",
       "        text-align: right;\n",
       "    }\n",
       "</style>\n",
       "<table border=\"1\" class=\"dataframe\">\n",
       "  <thead>\n",
       "    <tr style=\"text-align: right;\">\n",
       "      <th></th>\n",
       "      <th>SeniorCitizen</th>\n",
       "      <th>tenure</th>\n",
       "      <th>MonthlyCharges</th>\n",
       "      <th>TotalCharges</th>\n",
       "      <th>TotalServicesUsed</th>\n",
       "    </tr>\n",
       "    <tr>\n",
       "      <th>Segment</th>\n",
       "      <th></th>\n",
       "      <th></th>\n",
       "      <th></th>\n",
       "      <th></th>\n",
       "      <th></th>\n",
       "    </tr>\n",
       "  </thead>\n",
       "  <tbody>\n",
       "    <tr>\n",
       "      <th>0</th>\n",
       "      <td>0.04</td>\n",
       "      <td>26.85</td>\n",
       "      <td>29.06</td>\n",
       "      <td>745.84</td>\n",
       "      <td>1.40</td>\n",
       "    </tr>\n",
       "    <tr>\n",
       "      <th>1</th>\n",
       "      <td>0.20</td>\n",
       "      <td>58.73</td>\n",
       "      <td>90.56</td>\n",
       "      <td>5305.80</td>\n",
       "      <td>5.65</td>\n",
       "    </tr>\n",
       "    <tr>\n",
       "      <th>2</th>\n",
       "      <td>0.25</td>\n",
       "      <td>15.62</td>\n",
       "      <td>77.24</td>\n",
       "      <td>1197.40</td>\n",
       "      <td>3.31</td>\n",
       "    </tr>\n",
       "  </tbody>\n",
       "</table>\n",
       "</div>"
      ],
      "text/plain": [
       "         SeniorCitizen  tenure  MonthlyCharges  TotalCharges  \\\n",
       "Segment                                                        \n",
       "0                 0.04   26.85           29.06        745.84   \n",
       "1                 0.20   58.73           90.56       5305.80   \n",
       "2                 0.25   15.62           77.24       1197.40   \n",
       "\n",
       "         TotalServicesUsed  \n",
       "Segment                     \n",
       "0                     1.40  \n",
       "1                     5.65  \n",
       "2                     3.31  "
      ]
     },
     "execution_count": 10,
     "metadata": {},
     "output_type": "execute_result"
    }
   ],
   "source": [
    "df_clustered.groupby('Segment')[features].mean().round(2)\n"
   ]
  }
 ],
 "metadata": {
  "kernelspec": {
   "display_name": "Python 3 (ipykernel)",
   "language": "python",
   "name": "python3"
  },
  "language_info": {
   "codemirror_mode": {
    "name": "ipython",
    "version": 3
   },
   "file_extension": ".py",
   "mimetype": "text/x-python",
   "name": "python",
   "nbconvert_exporter": "python",
   "pygments_lexer": "ipython3",
   "version": "3.11.4"
  }
 },
 "nbformat": 4,
 "nbformat_minor": 5
}
